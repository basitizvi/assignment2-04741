{
 "cells": [
  {
   "cell_type": "code",
   "execution_count": 9,
   "metadata": {},
   "outputs": [
    {
     "name": "stdout",
     "output_type": "stream",
     "text": [
      "Please, enter a number...8.9\n",
      "8.9 is strange.\n"
     ]
    }
   ],
   "source": [
    "number= float(input(\"Please, enter a number...\"))\n",
    "check=number%2\n",
    "if(check== 0):\n",
    "    print(int(number), \"is an even number.\")\n",
    "elif (check == 1):\n",
    "    print(int(number), \"is an odd number.\")\n",
    "else:\n",
    "    print(number, \"is strange.\")"
   ]
  },
  {
   "cell_type": "code",
   "execution_count": 12,
   "metadata": {},
   "outputs": [
    {
     "name": "stdout",
     "output_type": "stream",
     "text": [
      "===========================\n",
      "Wellcome to Marksheet Maker\n",
      "===========================\n",
      "Please Enter your Obtained Numbers Subject wise\n",
      "***********************************************\n",
      "Enter Your English Marks out of 100 90\n",
      "Enter Your Maths Marks out of 100 70\n",
      "Enter Your Urdu Marks  out of 100 80\n",
      "Enter Your Pak-studies Marks out of 100 89\n",
      "Enter Your Islamiat Marks out of 100 90\n",
      "let me calculate......\n",
      "YOUR %  83.8\n",
      "YOU GOT A\n",
      "Thanks For Choosing us!!!!! \n",
      "==========================================\n"
     ]
    }
   ],
   "source": [
    "print(\"===========================\")\n",
    "print(\"Wellcome to Marksheet Maker\")\n",
    "print(\"===========================\")\n",
    "print(\"Please Enter your Obtained Numbers Subject wise\")\n",
    "print(\"***********************************************\")\n",
    "X=int(input(\"Enter Your English Marks out of 100 \"))\n",
    "y=int(input(\"Enter Your Maths Marks out of 100 \"))\n",
    "z=int(input(\"Enter Your Urdu Marks  out of 100 \"))\n",
    "X2=int(input(\"Enter Your Pak-studies Marks out of 100 \"))\n",
    "x1=int(input(\"Enter Your Islamiat Marks out of 100 \"))\n",
    "print(\"let me calculate......\")\n",
    "\n",
    "total=int (X+y+z+X2+x1)\n",
    "PER= float(total / 500)*100\n",
    "if(PER<=100.0 and PER>=90.0):\n",
    "           print(\"YOUR % \" ,PER )\n",
    "           print(\"YOU GOT A+\")\n",
    "elif(PER<=89.0 and PER>=80.0):\n",
    "            print(\"YOUR % \" ,PER )\n",
    "            print(\"YOU GOT A\")\n",
    "elif(PER<=79.0 and PER>=70.0):\n",
    "            print(\"YOUR % \" ,PER) \n",
    "            print(\"YOU GOT B\")\n",
    "elif(PER<=69.0 and PER>=60.0):\n",
    "            print(\"YOUR % \" ,PER)\n",
    "            print(\"YOU GOT C\")\n",
    "elif(PER<=59.0 and PER>=50.0):\n",
    "            print(\"YOUR % \" ,PER )\n",
    "            print(\"YOU GOT D\")\n",
    "elif(PER<=49.0 and PER>=40.0):\n",
    "            print(\"YOUR % \" ,PER) \n",
    "            print(\"YOU GOT E\")\n",
    "else:\n",
    "            print(\"YOU ARE FAILED TO ACHEIVED ANY GRADE \")\n",
    "print(\"Thanks For Choosing us!!!!! \")\n",
    "print(\"==========================================\")"
   ]
  },
  {
   "cell_type": "code",
   "execution_count": 14,
   "metadata": {},
   "outputs": [
    {
     "name": "stdout",
     "output_type": "stream",
     "text": [
      "my lsit length 7\n"
     ]
    }
   ],
   "source": [
    "list=[1,2,3,5,6,77,8]\n",
    "mylength=len(list)\n",
    "print(\"my lsit length\",mylength)"
   ]
  },
  {
   "cell_type": "code",
   "execution_count": 15,
   "metadata": {},
   "outputs": [
    {
     "name": "stdout",
     "output_type": "stream",
     "text": [
      "Sum of elements in given list is : 62\n"
     ]
    }
   ],
   "source": [
    "list=[1,2,3,45,6,3,2]\n",
    "print(\"Sum of elements in given list is :\", sum(list))"
   ]
  },
  {
   "cell_type": "code",
   "execution_count": 16,
   "metadata": {},
   "outputs": [
    {
     "name": "stdout",
     "output_type": "stream",
     "text": [
      "Sum of elements in given list is : 45\n"
     ]
    }
   ],
   "source": [
    "list=[1,2,3,45,6,3,2]\n",
    "print(\"Sum of elements in given list is :\", max(list))"
   ]
  },
  {
   "cell_type": "code",
   "execution_count": 17,
   "metadata": {},
   "outputs": [
    {
     "name": "stdout",
     "output_type": "stream",
     "text": [
      "The list : [1, 1, 2, 3, 5, 8, 13, 21, 34, 55, 89]\n",
      "The numbers less than 5:  1\n",
      "The numbers less than 5:  1\n",
      "The numbers less than 5:  2\n",
      "The numbers less than 5:  3\n"
     ]
    }
   ],
   "source": [
    "list=[1,1,2,3,5,8,13,21,34,55,89]\n",
    "print (\"The list : \" + str(list))\n",
    "k=5\n",
    "count = 0\n",
    "for i in list : \n",
    "    if i < k : \n",
    "        \n",
    "        print (\"The numbers less than 5: \", (list[i]))"
   ]
  },
  {
   "cell_type": "code",
   "execution_count": null,
   "metadata": {},
   "outputs": [],
   "source": []
  }
 ],
 "metadata": {
  "kernelspec": {
   "display_name": "Python 3",
   "language": "python",
   "name": "python3"
  },
  "language_info": {
   "codemirror_mode": {
    "name": "ipython",
    "version": 3
   },
   "file_extension": ".py",
   "mimetype": "text/x-python",
   "name": "python",
   "nbconvert_exporter": "python",
   "pygments_lexer": "ipython3",
   "version": "3.7.4"
  }
 },
 "nbformat": 4,
 "nbformat_minor": 2
}
